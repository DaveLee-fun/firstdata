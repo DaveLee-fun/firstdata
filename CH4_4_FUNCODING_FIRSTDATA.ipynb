{
 "cells": [
  {
   "cell_type": "code",
   "execution_count": 1,
   "id": "99f258c9-d710-43d5-8960-18a5511fc1f8",
   "metadata": {},
   "outputs": [
    {
     "name": "stdout",
     "output_type": "stream",
     "text": [
      "      Name  Age          City  Salary\n",
      "0    Alice   25      New York   70000\n",
      "1      Bob   30   Los Angeles   80000\n",
      "2  Charlie   35       Chicago   90000\n",
      "3    David   40       Houston   85000\n",
      "4      Eva   22       Phoenix   60000\n",
      "5    Frank   28  Philadelphia   75000\n",
      "6    Grace   32   San Antonio   82000\n",
      "7   Hannah   27     San Diego   78000\n",
      "8      Ian   45        Dallas   95000\n",
      "9     Jane   31      San Jose   83000\n"
     ]
    }
   ],
   "source": [
    "import pandas as pd\n",
    "\n",
    "# CSV 파일 불러오기\n",
    "df = pd.read_csv('example.csv')\n",
    "\n",
    "# 데이터 출력\n",
    "print(df)"
   ]
  },
  {
   "cell_type": "code",
   "execution_count": null,
   "id": "7c425a13-9928-46ef-bd45-1a472d176a61",
   "metadata": {},
   "outputs": [],
   "source": []
  }
 ],
 "metadata": {
  "kernelspec": {
   "display_name": "Python 3 (ipykernel)",
   "language": "python",
   "name": "python3"
  },
  "language_info": {
   "codemirror_mode": {
    "name": "ipython",
    "version": 3
   },
   "file_extension": ".py",
   "mimetype": "text/x-python",
   "name": "python",
   "nbconvert_exporter": "python",
   "pygments_lexer": "ipython3",
   "version": "3.11.7"
  }
 },
 "nbformat": 4,
 "nbformat_minor": 5
}
